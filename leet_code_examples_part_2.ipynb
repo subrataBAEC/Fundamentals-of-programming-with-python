{
 "cells": [
  {
   "cell_type": "markdown",
   "id": "32c0debd-95b4-4b2e-a472-55ec0679f7db",
   "metadata": {},
   "source": [
    "## Leet code problems and solutions\n",
    "- Author: subrata saha\n",
    "- Date: 14.01.2022"
   ]
  },
  {
   "cell_type": "markdown",
   "id": "cf0a2652-4cd2-4305-9a6e-02672bcb8fd5",
   "metadata": {},
   "source": [
    "References:\n",
    "\n",
    "1. https://leetcode.com/problems/power-of-two/\n",
    "2. https://leetcode.com/problems/contains-duplicate/\n",
    "3. https://leetcode.com/problems/two-sum/submissions/"
   ]
  },
  {
   "cell_type": "markdown",
   "id": "cb0a9019-c064-4eb2-95f4-ffaf4d3dbd70",
   "metadata": {},
   "source": [
    "### 1: Power of Two\n",
    "\n",
    "Given an integer n, return true if it is a power of two. Otherwise, return false.\n",
    "\n",
    "An integer n is a power of two, if there exists an integer x such that n == 2^x.\n",
    "\n",
    "Note: n == 2^x\n",
    "=> log(n) = log(2^x)\n",
    "=> log(n) = x*log(2)\n",
    "=> x = log(n)/log(2)"
   ]
  },
  {
   "cell_type": "code",
   "execution_count": 1,
   "id": "1a25d43f-541f-4a5b-b962-eb8cc148df07",
   "metadata": {},
   "outputs": [
    {
     "name": "stdout",
     "output_type": "stream",
     "text": [
      "n= -30\n",
      "False\n",
      "-------\n",
      "n= 36 x= 5.169925001442312\n",
      "only integer part 5\n",
      "2^x= 35.99999999999999\n",
      "False\n",
      "-------\n",
      "n= 32 x= 5.0\n",
      "only integer part 5\n",
      "2^x= 32.0\n",
      "True\n"
     ]
    }
   ],
   "source": [
    "import math\n",
    "\n",
    "def ispoweroftwo(n):\n",
    "    if n>0: # n must be greater than zero\n",
    "        x=math.log10(n)/math.log10(2) \n",
    "        print('n=',n,'x=',x)\n",
    "        print('only integer part',int(x))\n",
    "        print('2^x=', 2**x)    \n",
    "        return n == 2**int(x)\n",
    "    else:\n",
    "        print('n=',n)\n",
    "        return False\n",
    "    \n",
    "ex_1=ispoweroftwo(-30)\n",
    "print(ex_1)\n",
    "print('-------')\n",
    "\n",
    "ex_2=ispoweroftwo(36)\n",
    "print(ex_2)\n",
    "print('-------')\n",
    "\n",
    "ex_3=ispoweroftwo(32)\n",
    "print(ex_3)"
   ]
  },
  {
   "cell_type": "markdown",
   "id": "daaa0c9a-bb49-4f3f-b614-e3f9e1e975e5",
   "metadata": {},
   "source": [
    "### 2: Contains Duplicate\n",
    "Given an integer array nums, return true if any value appears at least twice in the array, and return false if every element is distinct.if duplicate exists return true, otherwise return false.\n",
    "\n",
    "Note:compare lenth of the array and length of the set. set contains only unique components."
   ]
  },
  {
   "cell_type": "markdown",
   "id": "dd88cc34-5017-430d-a702-a24f280caebd",
   "metadata": {},
   "source": [
    "#### 2.1 using set function"
   ]
  },
  {
   "cell_type": "code",
   "execution_count": 2,
   "id": "6dceb1d6-b2fc-458a-9237-0ac227132dc3",
   "metadata": {},
   "outputs": [
    {
     "name": "stdout",
     "output_type": "stream",
     "text": [
      "[1, 2, 3, 1]\n",
      "only unique {1, 2, 3}\n",
      "True\n",
      "------\n",
      "[1, 2, 3, 4]\n",
      "only unique {1, 2, 3, 4}\n",
      "False\n",
      "------\n"
     ]
    }
   ],
   "source": [
    "def isduplicate(array):\n",
    "    print(array)\n",
    "    print('only unique',set(array)) # set() contains only unique components\n",
    "    \n",
    "    return len(array) != len(set(array)) # true= if duplicate\n",
    "    \n",
    "ex_1=isduplicate([1,2,3,1])\n",
    "print(ex_1)\n",
    "print('------')\n",
    "ex_2=isduplicate([1,2,3,4])\n",
    "print(ex_2)\n",
    "print('------')"
   ]
  },
  {
   "cell_type": "markdown",
   "id": "77ae032a-b058-4691-b5b5-67b4a2e166f3",
   "metadata": {},
   "source": [
    "#### 2.2 Another approach using for loop :\n",
    "Note: sort the numbers first. Then, match consecutive numbers. If  any pair have same value, return true."
   ]
  },
  {
   "cell_type": "code",
   "execution_count": 3,
   "id": "f437b953-ca0e-46fe-80b3-41436f153a76",
   "metadata": {},
   "outputs": [
    {
     "name": "stdout",
     "output_type": "stream",
     "text": [
      "original= [1, -2, 5, 3, 4, -2]\n",
      "sorted [-2, -2, 1, 3, 4, 5]\n",
      "True\n",
      "------\n",
      "original= [1, 2, 3, 4]\n",
      "sorted [1, 2, 3, 4]\n",
      "None\n",
      "------\n",
      "False\n",
      "------\n"
     ]
    }
   ],
   "source": [
    "def isduplicate(array):\n",
    "        \n",
    "    if (len(array)==0):\n",
    "        return False\n",
    "    else:\n",
    "        print('original=',array)\n",
    "        array.sort()\n",
    "        print('sorted',array)\n",
    "        \n",
    "        l=len(array)\n",
    "                      \n",
    "        for i in range(l):\n",
    "            if (array[i-1]==array[i]): #compare consecutive numbers\n",
    "                return True\n",
    "                               \n",
    "\n",
    "ex_1=isduplicate([1,-2,5,3,4,-2])\n",
    "print(ex_1)\n",
    "print('------')\n",
    "ex_2=isduplicate([1,2,3,4])\n",
    "print(ex_2)\n",
    "print('------')\n",
    "ex_3=isduplicate([])\n",
    "print(ex_3)\n",
    "print('------')\n",
    "# ex_4=isduplicate([1,2,3,4,[1,7,2]]) # doesnot work with nested list\n",
    "# print(ex_4)\n",
    "# print('------')\n"
   ]
  },
  {
   "cell_type": "markdown",
   "id": "5403911f-93e6-4db5-bfba-ee0b521d9bbd",
   "metadata": {},
   "source": [
    "### 3: Two Sum:\n",
    "Given an array of integers nums and an integer target, return indices of the two numbers such that they add up to target.You may assume that each input would have exactly one solution, and you may not use the same element twice."
   ]
  },
  {
   "cell_type": "markdown",
   "id": "39eefae8-7813-45b1-89a8-33fc4f40c103",
   "metadata": {},
   "source": [
    "#### 3.1 using dictionary:"
   ]
  },
  {
   "cell_type": "code",
   "execution_count": 4,
   "id": "b79467ca-b991-486c-9ab6-9df177faa10c",
   "metadata": {},
   "outputs": [
    {
     "name": "stdout",
     "output_type": "stream",
     "text": [
      "item =  2 goal =  7\n",
      "dictionary =  {2: 0}\n",
      "item =  7 goal =  2\n",
      "[0, 1]\n",
      "-----------------------------\n",
      "item =  3 goal =  3\n",
      "dictionary =  {3: 0}\n",
      "item =  2 goal =  4\n",
      "dictionary =  {3: 0, 2: 1}\n",
      "item =  4 goal =  2\n",
      "[1, 2]\n",
      "-----------------------------\n",
      "item =  3 goal =  3\n",
      "dictionary =  {3: 0}\n",
      "item =  3 goal =  3\n",
      "[0, 1]\n"
     ]
    }
   ],
   "source": [
    "def twoSum(nums, target):\n",
    "\n",
    "    val_index_dict = {}\n",
    "\n",
    "    for index in range(0, len(nums)):\n",
    "        goal = target - nums[index]\n",
    "        print(\"item = \", nums[index], \"goal = \", goal)\n",
    "\n",
    "        if(goal in val_index_dict):\n",
    "            return [val_index_dict[goal], index]\n",
    "\n",
    "        val_index_dict[nums[index]] = index\n",
    "        print(\"dictionary = \", val_index_dict)\n",
    "        \n",
    "        \n",
    "p3_example_1 = twoSum([2,7,11,15], 9)\n",
    "print(p3_example_1)\n",
    "\n",
    "print(\"-----------------------------\")\n",
    "\n",
    "p3_example_2 = twoSum([3,2,4], 6)\n",
    "print(p3_example_2)\n",
    "\n",
    "print(\"-----------------------------\")\n",
    "\n",
    "p3_example_3 = twoSum([3,3], 6)\n",
    "print(p3_example_3)"
   ]
  },
  {
   "cell_type": "markdown",
   "id": "dd65b8a5-8e7f-4377-b0f7-0ef11b6c6e21",
   "metadata": {},
   "source": [
    "#### 3.2 Another solution:"
   ]
  },
  {
   "cell_type": "markdown",
   "id": "4cb0e043-60c2-42a7-862f-2a32207477f2",
   "metadata": {},
   "source": [
    "idea source: https://stackoverflow.com/questions/30021060/two-sum-on-leetcode"
   ]
  },
  {
   "cell_type": "code",
   "execution_count": 5,
   "id": "3a9686f4-c156-4e60-8027-a735bb087c78",
   "metadata": {},
   "outputs": [],
   "source": [
    "def twosum(nums, target):\n",
    "    lookup = dict(((v, i) for i, v in enumerate(nums)))\n",
    "    return next(( (i, lookup.get(target-v)) \n",
    "            for i, v in enumerate(nums) \n",
    "                if lookup.get(target-v, i) != i), None)"
   ]
  },
  {
   "cell_type": "code",
   "execution_count": 6,
   "id": "a64af745-76bf-4801-9813-aa9cd5b473eb",
   "metadata": {},
   "outputs": [
    {
     "data": {
      "text/plain": [
       "(4, 7)"
      ]
     },
     "execution_count": 6,
     "metadata": {},
     "output_type": "execute_result"
    }
   ],
   "source": [
    "twosum([6, 7, 11, 15, 3, 6, 5, 3],6)"
   ]
  },
  {
   "cell_type": "code",
   "execution_count": 7,
   "id": "131961bd-2c20-4e06-88f2-8743c33d7f20",
   "metadata": {},
   "outputs": [
    {
     "data": {
      "text/plain": [
       "(0, 1)"
      ]
     },
     "execution_count": 7,
     "metadata": {},
     "output_type": "execute_result"
    }
   ],
   "source": [
    "twosum([2,7,11,15], 9)"
   ]
  },
  {
   "cell_type": "code",
   "execution_count": 8,
   "id": "6782e77f-d28a-4354-8aa4-face07036a93",
   "metadata": {},
   "outputs": [
    {
     "data": {
      "text/plain": [
       "(1, 2)"
      ]
     },
     "execution_count": 8,
     "metadata": {},
     "output_type": "execute_result"
    }
   ],
   "source": [
    "twosum([3,2,4], 6)"
   ]
  },
  {
   "cell_type": "markdown",
   "id": "739025e0-5aa6-4a16-aaf0-b09d4ded544c",
   "metadata": {},
   "source": [
    "--- Finish line --"
   ]
  }
 ],
 "metadata": {
  "kernelspec": {
   "display_name": "Python 3",
   "language": "python",
   "name": "python3"
  },
  "language_info": {
   "codemirror_mode": {
    "name": "ipython",
    "version": 3
   },
   "file_extension": ".py",
   "mimetype": "text/x-python",
   "name": "python",
   "nbconvert_exporter": "python",
   "pygments_lexer": "ipython3",
   "version": "3.8.8"
  }
 },
 "nbformat": 4,
 "nbformat_minor": 5
}
