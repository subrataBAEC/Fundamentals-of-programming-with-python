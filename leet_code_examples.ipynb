{
 "cells": [
  {
   "cell_type": "markdown",
   "id": "f5c0e666-6844-4be8-8a51-0da753c558c4",
   "metadata": {},
   "source": [
    "## Leet code problems and solutions\n",
    "- Author: subrata saha\n",
    "- Date: 09.01.2022"
   ]
  },
  {
   "cell_type": "markdown",
   "id": "30685c23-c2a6-4a6f-a148-363e61cd0385",
   "metadata": {},
   "source": [
    "References:\n",
    "1. https://leetcode.com/problems/maximum-product-of-three-numbers/\n",
    "2. https://leetcode.com/problems/richest-customer-wealth/\n",
    "3. https://leetcode.com/problems/shuffle-the-array/\n",
    "4. https://leetcode.com/problems/valid-perfect-square/"
   ]
  },
  {
   "cell_type": "markdown",
   "id": "acea0de4-f55f-4d0c-bda6-c2bab5ed4b87",
   "metadata": {},
   "source": [
    "### 1. Maximum Product of Three Numbers\n",
    "Given an integer array nums, find three numbers whose product is maximum and return the maximum product.\n",
    "\n",
    "Note: maximum product of any 3 numbers can be found in two ways.\n",
    "- the product of the greatest three numbers\n",
    "- the smallest two numbers with the greatest number from the  array"
   ]
  },
  {
   "cell_type": "code",
   "execution_count": 1,
   "id": "fce48a06-bf76-44f0-a26f-73614defcf02",
   "metadata": {},
   "outputs": [
    {
     "name": "stdout",
     "output_type": "stream",
     "text": [
      "24\n",
      "168\n",
      "error: need to be at least 3\n",
      "None\n"
     ]
    }
   ],
   "source": [
    "def maximumProduct(array):\n",
    "    if len(array)<3:  # array size must be at least three\n",
    "        print('error: need to be at least 3')\n",
    "    else:        \n",
    "        n=len(array)\n",
    "        array.sort()\n",
    "        product_one=array[n-1]*array[n-2]*array[n-3]\n",
    "        product_two=array[0]*array[1]*array[2]\n",
    "        return max(product_one,product_two)\n",
    "    \n",
    "print(maximumProduct([1,2,3,4]))\n",
    "print(maximumProduct([-1,-2,4,6,3,7]))\n",
    "print(maximumProduct([1,4]))"
   ]
  },
  {
   "cell_type": "markdown",
   "id": "6e07d6bb-1abf-48bd-800f-be0cb9b5463b",
   "metadata": {},
   "source": [
    "### 2. Richest Customer Wealth\n",
    "You are given an m x n integer grid accounts where accounts[i][j] is the amount of money the i-th customer has in the j-th bank. Return the wealth that the richest customer has.\n",
    "A customer's wealth is the amount of money they have in all their bank accounts. The richest customer is the customer that has the maximum wealth.\n",
    "\n",
    "Note: calculate sum of each customer's wealth, then compare."
   ]
  },
  {
   "cell_type": "code",
   "execution_count": 2,
   "id": "684b0caa-1d2a-4675-aac6-5a2c44b03e89",
   "metadata": {},
   "outputs": [
    {
     "name": "stdout",
     "output_type": "stream",
     "text": [
      "[1, 2, 3]\n",
      "sum 6\n",
      "[3, 2, 1]\n",
      "sum 6\n",
      "[6, 6]\n",
      "6\n",
      "---------\n",
      "[2, 8, 7]\n",
      "sum 17\n",
      "[7, 1, 3]\n",
      "sum 11\n",
      "[1, 9, 5]\n",
      "sum 15\n",
      "[17, 11, 15]\n",
      "17\n",
      "---------\n"
     ]
    }
   ],
   "source": [
    "def max_wealth(customers):\n",
    "    wealth=[] # for collecting total wealth of every individual \n",
    "         \n",
    "    for item in range(len(customers)): # iterate from first to last customer\n",
    "        print(customers[item]) # print i'th customer\n",
    "        print('sum',sum((customers[item]))) # sum of i'th customer\n",
    "        wealth.append(sum((customers[item])))\n",
    "    print(wealth)\n",
    "    return max(wealth)\n",
    "    \n",
    "\n",
    "customer_1=max_wealth(([[1,2,3],[3,2,1]]))\n",
    "print(customer_1)\n",
    "print('---------')\n",
    "customer_2= max_wealth([[2,8,7],[7,1,3],[1,9,5]])\n",
    "print(customer_2)\n",
    "print('---------')"
   ]
  },
  {
   "cell_type": "markdown",
   "id": "e3f12ed1-0346-408c-8df1-00d144d32b89",
   "metadata": {},
   "source": [
    "### 3: Shuffle the Array\n",
    "Given the array nums consisting of 2n elements in the form [x_1,x_2,...,x_n,y_1,y_2,...,y_n].\n",
    "Return the array in the form [x_1,y_1,x_2,y_2,...,x_n,y_n]\n",
    "\n",
    "Note: make two half the whole array.take first item from the first half then first item from the second item and continue."
   ]
  },
  {
   "cell_type": "code",
   "execution_count": 3,
   "id": "acaeab39-e30a-492b-bb32-acf5444a8e63",
   "metadata": {},
   "outputs": [
    {
     "name": "stdout",
     "output_type": "stream",
     "text": [
      "after first [2]\n",
      "after second [2, 3]\n",
      "after first [2, 3, 5]\n",
      "after second [2, 3, 5, 4]\n",
      "after first [2, 3, 5, 4, 1]\n",
      "after second [2, 3, 5, 4, 1, 7]\n",
      "...........\n",
      "after first [1]\n",
      "after second [1, 4]\n",
      "after first [1, 4, 2]\n",
      "after second [1, 4, 2, 3]\n",
      "after first [1, 4, 2, 3, 3]\n",
      "after second [1, 4, 2, 3, 3, 2]\n",
      "after first [1, 4, 2, 3, 3, 2, 4]\n",
      "after second [1, 4, 2, 3, 3, 2, 4, 1]\n",
      "...........\n"
     ]
    }
   ],
   "source": [
    "def shuffle(array,n): # 2,5,1,     3,4,7\n",
    "    first_half=array[:n] # from first to half position\n",
    "    last_half=array[n:] # from half to last position\n",
    "    \n",
    "    shuffle=[]\n",
    "    for item in range(n):\n",
    "        shuffle.append(first_half[item])\n",
    "        print('after first',shuffle)\n",
    "        shuffle.append(last_half[item])\n",
    "        print('after second',shuffle)\n",
    "        \n",
    "    return shuffle\n",
    "        \n",
    "shuffle([2,5,1,3,4,7], 3)  \n",
    "print('...........')\n",
    "shuffle([1,2,3,4,4,3,2,1], 4)\n",
    "print('...........')"
   ]
  },
  {
   "cell_type": "markdown",
   "id": "443579f9-c1c7-4a13-b028-0f8b402c4a2f",
   "metadata": {},
   "source": [
    "### 4: Valid Perfect Square\n",
    "Given a positive integer num, write a function which returns True if num is a perfect square else False.Given a positive integer num, write a function which returns True if num is a perfect square else False.\n",
    "\n",
    "Note: calculate the root of the number, take the integer part then compare.If perfect square,then they will be equal."
   ]
  },
  {
   "cell_type": "code",
   "execution_count": 4,
   "id": "38624735-40c2-4361-8716-3508f1198e1b",
   "metadata": {},
   "outputs": [
    {
     "name": "stdout",
     "output_type": "stream",
     "text": [
      "square root 3.7416573867739413\n",
      "only integer part 3\n",
      "square root 4.0\n",
      "only integer part 4\n"
     ]
    },
    {
     "data": {
      "text/plain": [
       "True"
      ]
     },
     "execution_count": 4,
     "metadata": {},
     "output_type": "execute_result"
    }
   ],
   "source": [
    "def isSquare(number):\n",
    "    print('square root', number**0.5)\n",
    "    print('only integer part', int(number**0.5))\n",
    "    \n",
    "    return number**0.5==int(number**0.5)\n",
    "    \n",
    "    \n",
    "isSquare(14)\n",
    "isSquare(16)   "
   ]
  }
 ],
 "metadata": {
  "kernelspec": {
   "display_name": "Python 3",
   "language": "python",
   "name": "python3"
  },
  "language_info": {
   "codemirror_mode": {
    "name": "ipython",
    "version": 3
   },
   "file_extension": ".py",
   "mimetype": "text/x-python",
   "name": "python",
   "nbconvert_exporter": "python",
   "pygments_lexer": "ipython3",
   "version": "3.8.8"
  }
 },
 "nbformat": 4,
 "nbformat_minor": 5
}
